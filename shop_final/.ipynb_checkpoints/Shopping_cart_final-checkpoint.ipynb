{
 "cells": [
  {
   "cell_type": "code",
   "execution_count": null,
   "id": "cb9b7784",
   "metadata": {
    "scrolled": true
   },
   "outputs": [
    {
     "name": "stdout",
     "output_type": "stream",
     "text": [
      "Action: add/show/remove or quit add\n",
      "Add Item apple\n",
      "How many would you like to add? 2\n",
      "Action: add/show/remove or quit show\n",
      "In Cart:\n",
      "apple: 2\n",
      "Action: add/show/remove or quit remove\n",
      "Remove Item apple\n",
      "Action: add/show/remove or quit show\n",
      "EMPTY\n"
     ]
    }
   ],
   "source": [
    "class Cart(): \n",
    "    def __init__(self):\n",
    "        self.Cart = {}\n",
    "\n",
    "    def add2Cart(self):\n",
    "        product = input('Add Item ')\n",
    "        amount = input('How many would you like to add? ')\n",
    "        self.Cart[product] = amount\n",
    "\n",
    "    def removeFromCart(self):\n",
    "        removeProduct = input('Remove Item ')\n",
    "        del self.Cart[removeProduct]\n",
    "\n",
    "    def showMyCart(self):\n",
    "        if (len(self.Cart) > 0):\n",
    "            print('In Cart:')\n",
    "            for item in self.Cart.items():\n",
    "                print(item[0]+': '+item[1])\n",
    "        else:\n",
    "            print('EMPTY')\n",
    "\n",
    "myCart = Cart()\n",
    "\n",
    "def run():\n",
    "    while True:\n",
    "        response = input('Action: add/show/remove or quit ')\n",
    "        \n",
    "        if response == 'quit':\n",
    "            myCart.showMyCart()\n",
    "            print('Thanks for shopping')\n",
    "            break\n",
    "        elif response == 'add':\n",
    "            myCart.add2Cart()\n",
    "        elif response == 'show':\n",
    "            myCart.showMyCart()\n",
    "        elif response == 'remove':\n",
    "            myCart.removeFromCart()\n",
    "\n",
    "run()"
   ]
  },
  {
   "cell_type": "code",
   "execution_count": null,
   "id": "54840cd9",
   "metadata": {},
   "outputs": [],
   "source": []
  },
  {
   "cell_type": "code",
   "execution_count": null,
   "id": "b0514393",
   "metadata": {},
   "outputs": [],
   "source": []
  }
 ],
 "metadata": {
  "kernelspec": {
   "display_name": "Python 3 (ipykernel)",
   "language": "python",
   "name": "python3"
  },
  "language_info": {
   "codemirror_mode": {
    "name": "ipython",
    "version": 3
   },
   "file_extension": ".py",
   "mimetype": "text/x-python",
   "name": "python",
   "nbconvert_exporter": "python",
   "pygments_lexer": "ipython3",
   "version": "3.9.7"
  }
 },
 "nbformat": 4,
 "nbformat_minor": 5
}
