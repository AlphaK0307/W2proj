{
 "cells": [
  {
   "cell_type": "code",
   "execution_count": null,
   "id": "415d3c32",
   "metadata": {},
   "outputs": [
    {
     "name": "stdout",
     "output_type": "stream",
     "text": [
      "What do you want to do? add/show/remove or quit \n"
     ]
    }
   ],
   "source": [
    "# Create a class called cart that retains items and has methods to add, remove, and show\n",
    "\n",
    "class Cart():\n",
    "    \n",
    "    \n",
    "    def __init__(self):\n",
    "        self.cart = []\n",
    "\n",
    "    def add2Cart(self):\n",
    "        products = input('What would you like to add? ')\n",
    "        self.cart.append(products)\n",
    "\n",
    "    def removeFromCart(self,item):\n",
    "        removedItem = input('What would you like to remove? ')\n",
    "        self.cart.remove(removedItem)\n",
    "\n",
    "    def showMyCart(self):\n",
    "        print('These items are in your cart:')\n",
    "        for item in self.cart:\n",
    "            print(item)\n",
    "\n",
    "\n",
    "myCart = Cart()\n",
    "\n",
    "def run():\n",
    "    while True:\n",
    "        response = input('What do you want to do? add/show/remove or quit ')\n",
    "        \n",
    "        if response.lower()== 'quit':\n",
    "            myCart.showMyCart()\n",
    "            print('Thanks for shopping')\n",
    "            break\n",
    "        elif response.lower() == 'add':\n",
    "            myCart.add2Cart()\n",
    "        elif response.lower() == 'show':\n",
    "            myCart.showMyCart()\n",
    "        elif response.lower == 'remove':\n",
    "            myCart.removeFromCart()\n",
    "       \n",
    "\n",
    "run()\n",
    " \n",
    "    "
   ]
  }
 ],
 "metadata": {
  "kernelspec": {
   "display_name": "Python 3 (ipykernel)",
   "language": "python",
   "name": "python3"
  },
  "language_info": {
   "codemirror_mode": {
    "name": "ipython",
    "version": 3
   },
   "file_extension": ".py",
   "mimetype": "text/x-python",
   "name": "python",
   "nbconvert_exporter": "python",
   "pygments_lexer": "ipython3",
   "version": "3.9.7"
  }
 },
 "nbformat": 4,
 "nbformat_minor": 5
}
